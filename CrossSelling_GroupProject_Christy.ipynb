{
 "cells": [
  {
   "cell_type": "markdown",
   "id": "8e59a42d",
   "metadata": {},
   "source": [
    "## Problem Statement:  <br>\n",
    "XYZ credit union in Latin America is performing very well in selling the Banking products (eg: Credit card, deposit account, retirement account, safe deposit box etc) but their existing customer is not not buying more than 1 product which means bank is not performing good in cross selling (Bank is not able to sell their other offerings to existing customer). XYZ Credit Union decided to approach ABC analytics to solve their problem."
   ]
  },
  {
   "cell_type": "code",
   "execution_count": 1,
   "id": "fe1bb298",
   "metadata": {},
   "outputs": [],
   "source": [
    "import pyspark"
   ]
  },
  {
   "cell_type": "code",
   "execution_count": 2,
   "id": "b0a89b73",
   "metadata": {},
   "outputs": [
    {
     "data": {
      "text/html": [
       "\n",
       "            <div>\n",
       "                <p><b>SparkSession - in-memory</b></p>\n",
       "                \n",
       "        <div>\n",
       "            <p><b>SparkContext</b></p>\n",
       "\n",
       "            <p><a href=\"http://DESKTOP-6OD6K2M:4040\">Spark UI</a></p>\n",
       "\n",
       "            <dl>\n",
       "              <dt>Version</dt>\n",
       "                <dd><code>v3.1.2</code></dd>\n",
       "              <dt>Master</dt>\n",
       "                <dd><code>local[*]</code></dd>\n",
       "              <dt>AppName</dt>\n",
       "                <dd><code>Cross_Selling_Project</code></dd>\n",
       "            </dl>\n",
       "        </div>\n",
       "        \n",
       "            </div>\n",
       "        "
      ],
      "text/plain": [
       "<pyspark.sql.session.SparkSession at 0x1b575aa5c40>"
      ]
     },
     "execution_count": 2,
     "metadata": {},
     "output_type": "execute_result"
    }
   ],
   "source": [
    "from pyspark.sql import SparkSession\n",
    "spark = SparkSession.builder.appName(\"Cross_Selling_Project\").getOrCreate()\n",
    "spark"
   ]
  },
  {
   "cell_type": "code",
   "execution_count": 3,
   "id": "0bd9d06b",
   "metadata": {},
   "outputs": [],
   "source": [
    "# reading the csv\n",
    "path = \"FinalProjectDataset/\"\n",
    "cs_data = spark.read.csv(path+\"Train.csv\",inferSchema=True,header=True)"
   ]
  },
  {
   "cell_type": "markdown",
   "id": "c8d3c02e",
   "metadata": {},
   "source": [
    "### Column Name and its Description:\n",
    "\n",
    "**fecha_dato**\tThe table is partitioned for this column<br>\n",
    "**ncodpers**\tCustomer code<br>\n",
    "**ind_empleado**\tEmployee index: **A** active, **B** ex employed, **F** filial, **N** not employee, **P** pasive<br>\n",
    "**pais_residencia**\tCustomer's Country residence<br>\n",
    "**sexo**\tCustomer's sex<br>\n",
    "**age**\tAge<br>\n",
    "**fecha_alta**\tThe date in which the customer became as the first holder of a contract in the bank<br>\n",
    "**ind_nuevo**\tNew customer Index. 1 if the customer registered in the last 6 months.<br>\n",
    "**antiguedad**\tCustomer seniority (in months)<br>\n",
    "**indrel**\t1 (First/Primary), 99 (Primary customer during the month but not at the end of the month)<br>\n",
    "**ult_fec_cli_1t**\tLast date as primary customer (if he isn't at the end of the month)<br>\n",
    "**indrel_1mes**\tCustomer type at the beginning of the month ,1 (First/Primary customer), 2 (co-owner ),P (Potential),3 (former primary), 4(former co-owner)<br>\n",
    "**tiprel_1mes**\tCustomer relation type at the beginning of the month, A (active), I (inactive), P (former customer),R (Potential)<br>\n",
    "**indresi**\tResidence index (S (Yes) or N (No) if the residence country is the same than the bank country)<br>\n",
    "**indext**\tForeigner index (S (Yes) or N (No) if the customer's birth country is different than the bank country)<br>\n",
    "**conyuemp**\tSpouse index. 1 if the customer is spouse of an employee<br>\n",
    "**canal_entrada**\tchannel used by the customer to join<br>\n",
    "**indfall**\tDeceased index. N/S<br>\n",
    "**tipodom**\tAddres type. 1, primary address<br>\n",
    "**cod_prov**\tProvince code (customer's address)<br>\n",
    "**nomprov**\tProvince name<br>\n",
    "**ind_actividad_cliente**\tActivity index (1, active customer; 0, inactive customer)<br>\n",
    "**renta**\tGross income of the household<br>\n",
    "**segmento**\tsegmentation: 01 - VIP, 02 - Individuals 03 - college graduated<br>\n",
    "**ind_ahor_fin_ult1**\tSaving Account<br>\n",
    "**ind_aval_fin_ult1**\tGuarantees<br>\n",
    "**ind_cco_fin_ult1**\tCurrent Accounts<br>\n",
    "**ind_cder_fin_ult1**\tDerivada Account<br>\n",
    "**ind_cno_fin_ult1**\tPayroll Account<br>\n",
    "**ind_ctju_fin_ult1**\tJunior Account<br>\n",
    "**ind_ctma_fin_ult1**\tMás particular Account<br>\n",
    "**ind_ctop_fin_ult1**\tparticular Account<br>\n",
    "**ind_ctpp_fin_ult1**\tparticular Plus Account<br>\n",
    "**ind_deco_fin_ult1**\tShort-term deposits<br>\n",
    "**ind_deme_fin_ult1**\tMedium-term deposits<br>\n",
    "**ind_dela_fin_ult1**\tLong-term deposits<br>\n",
    "**ind_ecue_fin_ult1**\te-account<br>\n",
    "**ind_fond_fin_ult1**\tFunds<br>\n",
    "**ind_hip_fin_ult1**\tMortgage<br>\n",
    "**ind_plan_fin_ult1**\tPensions<br>\n",
    "**ind_pres_fin_ult1**\tLoans<br>\n",
    "**ind_reca_fin_ult1**\tTaxes<br>\n",
    "**ind_tjcr_fin_ult1**\tCredit Card<br>\n",
    "**ind_valo_fin_ult1**\tSecurities<br>\n",
    "**ind_viv_fin_ult1**\tHome Account<br>\n",
    "**ind_nomina_ult1**\tPayroll<br>\n",
    "**ind_nom_pens_ult1**\tPensions<br>\n",
    "**ind_recibo_ult1**\tDirect Debit<br>"
   ]
  },
  {
   "cell_type": "code",
   "execution_count": 4,
   "id": "d75e3aca",
   "metadata": {
    "scrolled": true
   },
   "outputs": [
    {
     "data": {
      "text/html": [
       "<div>\n",
       "<style scoped>\n",
       "    .dataframe tbody tr th:only-of-type {\n",
       "        vertical-align: middle;\n",
       "    }\n",
       "\n",
       "    .dataframe tbody tr th {\n",
       "        vertical-align: top;\n",
       "    }\n",
       "\n",
       "    .dataframe thead th {\n",
       "        text-align: right;\n",
       "    }\n",
       "</style>\n",
       "<table border=\"1\" class=\"dataframe\">\n",
       "  <thead>\n",
       "    <tr style=\"text-align: right;\">\n",
       "      <th></th>\n",
       "      <th>fecha_dato</th>\n",
       "      <th>ncodpers</th>\n",
       "      <th>ind_empleado</th>\n",
       "      <th>pais_residencia</th>\n",
       "      <th>sexo</th>\n",
       "      <th>age</th>\n",
       "      <th>fecha_alta</th>\n",
       "      <th>ind_nuevo</th>\n",
       "      <th>antiguedad</th>\n",
       "      <th>indrel</th>\n",
       "      <th>...</th>\n",
       "      <th>ind_hip_fin_ult1</th>\n",
       "      <th>ind_plan_fin_ult1</th>\n",
       "      <th>ind_pres_fin_ult1</th>\n",
       "      <th>ind_reca_fin_ult1</th>\n",
       "      <th>ind_tjcr_fin_ult1</th>\n",
       "      <th>ind_valo_fin_ult1</th>\n",
       "      <th>ind_viv_fin_ult1</th>\n",
       "      <th>ind_nomina_ult1</th>\n",
       "      <th>ind_nom_pens_ult1</th>\n",
       "      <th>ind_recibo_ult1</th>\n",
       "    </tr>\n",
       "  </thead>\n",
       "  <tbody>\n",
       "    <tr>\n",
       "      <th>0</th>\n",
       "      <td>2015-01-28</td>\n",
       "      <td>1375586.0</td>\n",
       "      <td>N</td>\n",
       "      <td>ES</td>\n",
       "      <td>H</td>\n",
       "      <td>35</td>\n",
       "      <td>2015-01-12</td>\n",
       "      <td>0</td>\n",
       "      <td>6</td>\n",
       "      <td>1</td>\n",
       "      <td>...</td>\n",
       "      <td>0</td>\n",
       "      <td>0</td>\n",
       "      <td>0</td>\n",
       "      <td>0</td>\n",
       "      <td>0</td>\n",
       "      <td>0</td>\n",
       "      <td>0</td>\n",
       "      <td>0</td>\n",
       "      <td>0</td>\n",
       "      <td>0</td>\n",
       "    </tr>\n",
       "    <tr>\n",
       "      <th>1</th>\n",
       "      <td>2015-01-28</td>\n",
       "      <td>1050611.0</td>\n",
       "      <td>N</td>\n",
       "      <td>ES</td>\n",
       "      <td>V</td>\n",
       "      <td>23</td>\n",
       "      <td>2012-08-10</td>\n",
       "      <td>0</td>\n",
       "      <td>35</td>\n",
       "      <td>1</td>\n",
       "      <td>...</td>\n",
       "      <td>0</td>\n",
       "      <td>0</td>\n",
       "      <td>0</td>\n",
       "      <td>0</td>\n",
       "      <td>0</td>\n",
       "      <td>0</td>\n",
       "      <td>0</td>\n",
       "      <td>0</td>\n",
       "      <td>0</td>\n",
       "      <td>0</td>\n",
       "    </tr>\n",
       "    <tr>\n",
       "      <th>2</th>\n",
       "      <td>2015-01-28</td>\n",
       "      <td>1050612.0</td>\n",
       "      <td>N</td>\n",
       "      <td>ES</td>\n",
       "      <td>V</td>\n",
       "      <td>23</td>\n",
       "      <td>2012-08-10</td>\n",
       "      <td>0</td>\n",
       "      <td>35</td>\n",
       "      <td>1</td>\n",
       "      <td>...</td>\n",
       "      <td>0</td>\n",
       "      <td>0</td>\n",
       "      <td>0</td>\n",
       "      <td>0</td>\n",
       "      <td>0</td>\n",
       "      <td>0</td>\n",
       "      <td>0</td>\n",
       "      <td>0</td>\n",
       "      <td>0</td>\n",
       "      <td>0</td>\n",
       "    </tr>\n",
       "    <tr>\n",
       "      <th>3</th>\n",
       "      <td>2015-01-28</td>\n",
       "      <td>1050613.0</td>\n",
       "      <td>N</td>\n",
       "      <td>ES</td>\n",
       "      <td>H</td>\n",
       "      <td>22</td>\n",
       "      <td>2012-08-10</td>\n",
       "      <td>0</td>\n",
       "      <td>35</td>\n",
       "      <td>1</td>\n",
       "      <td>...</td>\n",
       "      <td>0</td>\n",
       "      <td>0</td>\n",
       "      <td>0</td>\n",
       "      <td>0</td>\n",
       "      <td>0</td>\n",
       "      <td>0</td>\n",
       "      <td>0</td>\n",
       "      <td>0</td>\n",
       "      <td>0</td>\n",
       "      <td>0</td>\n",
       "    </tr>\n",
       "  </tbody>\n",
       "</table>\n",
       "<p>4 rows × 48 columns</p>\n",
       "</div>"
      ],
      "text/plain": [
       "   fecha_dato   ncodpers ind_empleado pais_residencia sexo  age  fecha_alta  \\\n",
       "0  2015-01-28  1375586.0            N              ES    H   35  2015-01-12   \n",
       "1  2015-01-28  1050611.0            N              ES    V   23  2012-08-10   \n",
       "2  2015-01-28  1050612.0            N              ES    V   23  2012-08-10   \n",
       "3  2015-01-28  1050613.0            N              ES    H   22  2012-08-10   \n",
       "\n",
       "  ind_nuevo antiguedad indrel  ... ind_hip_fin_ult1 ind_plan_fin_ult1  \\\n",
       "0         0          6      1  ...                0                 0   \n",
       "1         0         35      1  ...                0                 0   \n",
       "2         0         35      1  ...                0                 0   \n",
       "3         0         35      1  ...                0                 0   \n",
       "\n",
       "  ind_pres_fin_ult1 ind_reca_fin_ult1 ind_tjcr_fin_ult1 ind_valo_fin_ult1  \\\n",
       "0                 0                 0                 0                 0   \n",
       "1                 0                 0                 0                 0   \n",
       "2                 0                 0                 0                 0   \n",
       "3                 0                 0                 0                 0   \n",
       "\n",
       "  ind_viv_fin_ult1 ind_nomina_ult1 ind_nom_pens_ult1 ind_recibo_ult1  \n",
       "0                0               0                 0               0  \n",
       "1                0               0                 0               0  \n",
       "2                0               0                 0               0  \n",
       "3                0               0                 0               0  \n",
       "\n",
       "[4 rows x 48 columns]"
      ]
     },
     "execution_count": 4,
     "metadata": {},
     "output_type": "execute_result"
    }
   ],
   "source": [
    "cs_data.limit(4).toPandas()"
   ]
  },
  {
   "cell_type": "markdown",
   "id": "7f6d4198",
   "metadata": {},
   "source": [
    "**Finding the number of rows and columns in the dataset:**"
   ]
  },
  {
   "cell_type": "code",
   "execution_count": 5,
   "id": "dd83e85b",
   "metadata": {},
   "outputs": [
    {
     "data": {
      "text/plain": [
       "13647309"
      ]
     },
     "execution_count": 5,
     "metadata": {},
     "output_type": "execute_result"
    }
   ],
   "source": [
    "# Number of rows:\n",
    "cs_data.count()"
   ]
  },
  {
   "cell_type": "code",
   "execution_count": 6,
   "id": "0998fec4",
   "metadata": {},
   "outputs": [
    {
     "data": {
      "text/plain": [
       "48"
      ]
     },
     "execution_count": 6,
     "metadata": {},
     "output_type": "execute_result"
    }
   ],
   "source": [
    "# Number of Columns:\n",
    "len(cs_data.columns)"
   ]
  },
  {
   "cell_type": "markdown",
   "id": "cb7874d0",
   "metadata": {},
   "source": [
    "**Verifing if pyspark has infered the datatypes correctly:**"
   ]
  },
  {
   "cell_type": "code",
   "execution_count": 7,
   "id": "a4a3f135",
   "metadata": {},
   "outputs": [
    {
     "name": "stdout",
     "output_type": "stream",
     "text": [
      "root\n",
      " |-- fecha_dato: string (nullable = true)\n",
      " |-- ncodpers: double (nullable = true)\n",
      " |-- ind_empleado: string (nullable = true)\n",
      " |-- pais_residencia: string (nullable = true)\n",
      " |-- sexo: string (nullable = true)\n",
      " |-- age: string (nullable = true)\n",
      " |-- fecha_alta: string (nullable = true)\n",
      " |-- ind_nuevo: string (nullable = true)\n",
      " |-- antiguedad: string (nullable = true)\n",
      " |-- indrel: string (nullable = true)\n",
      " |-- ult_fec_cli_1t: string (nullable = true)\n",
      " |-- indrel_1mes: string (nullable = true)\n",
      " |-- tiprel_1mes: string (nullable = true)\n",
      " |-- indresi: string (nullable = true)\n",
      " |-- indext: string (nullable = true)\n",
      " |-- conyuemp: string (nullable = true)\n",
      " |-- canal_entrada: string (nullable = true)\n",
      " |-- indfall: string (nullable = true)\n",
      " |-- tipodom: string (nullable = true)\n",
      " |-- cod_prov: string (nullable = true)\n",
      " |-- nomprov: string (nullable = true)\n",
      " |-- ind_actividad_cliente: string (nullable = true)\n",
      " |-- renta: double (nullable = true)\n",
      " |-- segmento: string (nullable = true)\n",
      " |-- ind_ahor_fin_ult1: integer (nullable = true)\n",
      " |-- ind_aval_fin_ult1: integer (nullable = true)\n",
      " |-- ind_cco_fin_ult1: integer (nullable = true)\n",
      " |-- ind_cder_fin_ult1: integer (nullable = true)\n",
      " |-- ind_cno_fin_ult1: integer (nullable = true)\n",
      " |-- ind_ctju_fin_ult1: integer (nullable = true)\n",
      " |-- ind_ctma_fin_ult1: integer (nullable = true)\n",
      " |-- ind_ctop_fin_ult1: integer (nullable = true)\n",
      " |-- ind_ctpp_fin_ult1: integer (nullable = true)\n",
      " |-- ind_deco_fin_ult1: integer (nullable = true)\n",
      " |-- ind_deme_fin_ult1: integer (nullable = true)\n",
      " |-- ind_dela_fin_ult1: integer (nullable = true)\n",
      " |-- ind_ecue_fin_ult1: integer (nullable = true)\n",
      " |-- ind_fond_fin_ult1: integer (nullable = true)\n",
      " |-- ind_hip_fin_ult1: integer (nullable = true)\n",
      " |-- ind_plan_fin_ult1: integer (nullable = true)\n",
      " |-- ind_pres_fin_ult1: integer (nullable = true)\n",
      " |-- ind_reca_fin_ult1: integer (nullable = true)\n",
      " |-- ind_tjcr_fin_ult1: integer (nullable = true)\n",
      " |-- ind_valo_fin_ult1: integer (nullable = true)\n",
      " |-- ind_viv_fin_ult1: integer (nullable = true)\n",
      " |-- ind_nomina_ult1: string (nullable = true)\n",
      " |-- ind_nom_pens_ult1: string (nullable = true)\n",
      " |-- ind_recibo_ult1: integer (nullable = true)\n",
      "\n"
     ]
    }
   ],
   "source": [
    "# Dataset structure\n",
    "cs_data.printSchema()"
   ]
  },
  {
   "cell_type": "markdown",
   "id": "b1cdceee",
   "metadata": {},
   "source": [
    "**Correcting the Datatypes** of columns using **pyspark.sql.functions** library: <br>"
   ]
  },
  {
   "cell_type": "code",
   "execution_count": 8,
   "id": "460784fe",
   "metadata": {},
   "outputs": [],
   "source": [
    "from pyspark.sql.functions import *\n",
    "from pyspark.sql.types import *"
   ]
  },
  {
   "cell_type": "code",
   "execution_count": 9,
   "id": "65ed3e8d",
   "metadata": {
    "scrolled": true
   },
   "outputs": [
    {
     "name": "stdout",
     "output_type": "stream",
     "text": [
      "+---+\n",
      "|age|\n",
      "+---+\n",
      "| 35|\n",
      "| 23|\n",
      "| 23|\n",
      "| 22|\n",
      "| 23|\n",
      "+---+\n",
      "only showing top 5 rows\n",
      "\n"
     ]
    }
   ],
   "source": [
    "cs_data.select('age').show(5)"
   ]
  },
  {
   "cell_type": "code",
   "execution_count": 10,
   "id": "41fe64c7",
   "metadata": {},
   "outputs": [],
   "source": [
    "# Changing age to integer\n",
    "cs_data = cs_data.withColumn(\"age\", cs_data[\"age\"].cast(IntegerType()))"
   ]
  },
  {
   "cell_type": "code",
   "execution_count": 12,
   "id": "972634f4",
   "metadata": {},
   "outputs": [
    {
     "data": {
      "text/plain": [
       "IntegerType"
      ]
     },
     "execution_count": 12,
     "metadata": {},
     "output_type": "execute_result"
    }
   ],
   "source": [
    "cs_data.schema[\"age\"].dataType"
   ]
  },
  {
   "cell_type": "code",
   "execution_count": 14,
   "id": "6ec85685",
   "metadata": {},
   "outputs": [
    {
     "data": {
      "text/plain": [
       "121"
      ]
     },
     "execution_count": 14,
     "metadata": {},
     "output_type": "execute_result"
    }
   ],
   "source": [
    "cs_data.select('age').distinct().count()"
   ]
  },
  {
   "cell_type": "markdown",
   "id": "0d203b37",
   "metadata": {},
   "source": [
    "## Handling missing data in the dataframe"
   ]
  },
  {
   "cell_type": "markdown",
   "id": "bf291166",
   "metadata": {},
   "source": [
    "Creating a **function to count the number of missing data:**"
   ]
  },
  {
   "cell_type": "code",
   "execution_count": 15,
   "id": "026c97a7",
   "metadata": {},
   "outputs": [],
   "source": [
    "def count_null_values(df):\n",
    "    null_columns = []\n",
    "    totalRows = df.count()\n",
    "    for k in df.columns:        \n",
    "        nullRows = df.where(col(k).isNull()).count()\n",
    "        if(nullRows > 0):\n",
    "            temp = k,nullRows,((nullRows/totalRows)*100)\n",
    "            null_columns.append(temp)\n",
    "    return(null_columns)"
   ]
  },
  {
   "cell_type": "code",
   "execution_count": 16,
   "id": "92a6be06",
   "metadata": {},
   "outputs": [],
   "source": [
    "null_columns_list = count_null_values(cs_data)"
   ]
  },
  {
   "cell_type": "code",
   "execution_count": 17,
   "id": "af41a2fe",
   "metadata": {},
   "outputs": [],
   "source": [
    "missing_data_df = spark.createDataFrame(null_columns_list, ['Column_Name', 'Null_Values_Count','Null_Value_%'])"
   ]
  },
  {
   "cell_type": "code",
   "execution_count": 18,
   "id": "d89b3e17",
   "metadata": {},
   "outputs": [],
   "source": [
    "missing_data_df = missing_data_df.withColumn('Null_Value_%', \\\n",
    "                                               round(missing_data_df['Null_Value_%'],3))"
   ]
  },
  {
   "cell_type": "code",
   "execution_count": 19,
   "id": "360a6d7a",
   "metadata": {},
   "outputs": [
    {
     "name": "stdout",
     "output_type": "stream",
     "text": [
      "+---------------+-----------------+------------+\n",
      "|Column_Name    |Null_Values_Count|Null_Value_%|\n",
      "+---------------+-----------------+------------+\n",
      "|conyuemp       |13645501         |99.987      |\n",
      "|ult_fec_cli_1t |13622516         |99.818      |\n",
      "|renta          |2794375          |20.476      |\n",
      "|segmento       |189368           |1.388       |\n",
      "|canal_entrada  |186126           |1.364       |\n",
      "|indrel_1mes    |149781           |1.098       |\n",
      "|tiprel_1mes    |149781           |1.098       |\n",
      "|nomprov        |93591            |0.686       |\n",
      "|sexo           |27804            |0.204       |\n",
      "|indresi        |27734            |0.203       |\n",
      "|indext         |27734            |0.203       |\n",
      "|indfall        |27734            |0.203       |\n",
      "|ind_empleado   |27734            |0.203       |\n",
      "|fecha_alta     |27734            |0.203       |\n",
      "|age            |27734            |0.203       |\n",
      "|pais_residencia|27734            |0.203       |\n",
      "+---------------+-----------------+------------+\n",
      "\n"
     ]
    }
   ],
   "source": [
    "missing_data_df.orderBy(missing_data_df['Null_Value_%'].desc()).show(truncate=False)"
   ]
  },
  {
   "cell_type": "code",
   "execution_count": null,
   "id": "02e01a1c",
   "metadata": {},
   "outputs": [],
   "source": []
  },
  {
   "cell_type": "code",
   "execution_count": null,
   "id": "e6c36384",
   "metadata": {},
   "outputs": [],
   "source": []
  },
  {
   "cell_type": "code",
   "execution_count": null,
   "id": "275edd4e",
   "metadata": {},
   "outputs": [],
   "source": []
  },
  {
   "cell_type": "code",
   "execution_count": null,
   "id": "20ab7f68",
   "metadata": {},
   "outputs": [],
   "source": []
  },
  {
   "cell_type": "code",
   "execution_count": null,
   "id": "078b2b09",
   "metadata": {},
   "outputs": [],
   "source": []
  },
  {
   "cell_type": "code",
   "execution_count": null,
   "id": "9a904b81",
   "metadata": {},
   "outputs": [],
   "source": []
  }
 ],
 "metadata": {
  "kernelspec": {
   "display_name": "Python 3",
   "language": "python",
   "name": "python3"
  },
  "language_info": {
   "codemirror_mode": {
    "name": "ipython",
    "version": 3
   },
   "file_extension": ".py",
   "mimetype": "text/x-python",
   "name": "python",
   "nbconvert_exporter": "python",
   "pygments_lexer": "ipython3",
   "version": "3.8.8"
  }
 },
 "nbformat": 4,
 "nbformat_minor": 5
}
