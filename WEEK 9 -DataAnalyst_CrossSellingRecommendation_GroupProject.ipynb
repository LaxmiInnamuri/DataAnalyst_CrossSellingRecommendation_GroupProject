{
 "cells": [
  {
   "cell_type": "code",
   "execution_count": 4,
   "id": "75d844aa",
   "metadata": {},
   "outputs": [],
   "source": [
    "import numpy as np\n",
    "import pandas as pd\n",
    "import matplotlib.pyplot as plt\n",
    "import seaborn as sns\n",
    "from scipy import stats\n",
    "import plotly.express as px\n",
    "import plotly.graph_objs as go\n",
    "import plotly\n",
    "import plotly.graph_objects as go\n",
    "import datetime\n",
    "import warnings\n",
    "%matplotlib inline\n",
    "warnings.filterwarnings(\"ignore\")"
   ]
  },
  {
   "cell_type": "code",
   "execution_count": 52,
   "id": "4e436161",
   "metadata": {},
   "outputs": [],
   "source": [
    "pathfile1= \"C:/Users/pavan/JN/Test.csv\"\n",
    "TestData = pd.read_csv(\"C:/Users/pavan/JN/Test.csv\")\n"
   ]
  },
  {
   "cell_type": "code",
   "execution_count": 3,
   "id": "2ca5a1e1",
   "metadata": {},
   "outputs": [
    {
     "name": "stdout",
     "output_type": "stream",
     "text": [
      "<class 'pandas.core.frame.DataFrame'>\n",
      "RangeIndex: 929615 entries, 0 to 929614\n",
      "Data columns (total 24 columns):\n",
      " #   Column                 Non-Null Count   Dtype  \n",
      "---  ------                 --------------   -----  \n",
      " 0   fecha_dato             929615 non-null  object \n",
      " 1   ncodpers               929615 non-null  int64  \n",
      " 2   ind_empleado           929615 non-null  object \n",
      " 3   pais_residencia        929615 non-null  object \n",
      " 4   sexo                   929610 non-null  object \n",
      " 5   age                    929615 non-null  int64  \n",
      " 6   fecha_alta             929615 non-null  object \n",
      " 7   ind_nuevo              929615 non-null  int64  \n",
      " 8   antiguedad             929615 non-null  int64  \n",
      " 9   indrel                 929615 non-null  int64  \n",
      " 10  ult_fec_cli_1t         1683 non-null    object \n",
      " 11  indrel_1mes            929592 non-null  float64\n",
      " 12  tiprel_1mes            929592 non-null  object \n",
      " 13  indresi                929615 non-null  object \n",
      " 14  indext                 929615 non-null  object \n",
      " 15  conyuemp               104 non-null     object \n",
      " 16  canal_entrada          927534 non-null  object \n",
      " 17  indfall                929615 non-null  object \n",
      " 18  tipodom                929615 non-null  int64  \n",
      " 19  cod_prov               925619 non-null  float64\n",
      " 20  nomprov                925619 non-null  object \n",
      " 21  ind_actividad_cliente  929615 non-null  int64  \n",
      " 22  renta                  929615 non-null  object \n",
      " 23  segmento               927367 non-null  object \n",
      "dtypes: float64(2), int64(7), object(15)\n",
      "memory usage: 170.2+ MB\n"
     ]
    }
   ],
   "source": [
    "TestData.info()"
   ]
  },
  {
   "cell_type": "code",
   "execution_count": 49,
   "id": "f321008c",
   "metadata": {},
   "outputs": [],
   "source": [
    "pathfile2=\"C:/Users/pavan/JN/Train.csv\"\n",
    "\n",
    "TrainData = pd.read_csv(\"C:/Users/pavan/JN/Train.csv\")"
   ]
  },
  {
   "cell_type": "code",
   "execution_count": 50,
   "id": "5e3f4f19",
   "metadata": {},
   "outputs": [
    {
     "name": "stdout",
     "output_type": "stream",
     "text": [
      "<class 'pandas.core.frame.DataFrame'>\n",
      "RangeIndex: 13647309 entries, 0 to 13647308\n",
      "Data columns (total 48 columns):\n",
      " #   Column                 Dtype  \n",
      "---  ------                 -----  \n",
      " 0   fecha_dato             object \n",
      " 1   ncodpers               int64  \n",
      " 2   ind_empleado           object \n",
      " 3   pais_residencia        object \n",
      " 4   sexo                   object \n",
      " 5   age                    object \n",
      " 6   fecha_alta             object \n",
      " 7   ind_nuevo              float64\n",
      " 8   antiguedad             object \n",
      " 9   indrel                 float64\n",
      " 10  ult_fec_cli_1t         object \n",
      " 11  indrel_1mes            object \n",
      " 12  tiprel_1mes            object \n",
      " 13  indresi                object \n",
      " 14  indext                 object \n",
      " 15  conyuemp               object \n",
      " 16  canal_entrada          object \n",
      " 17  indfall                object \n",
      " 18  tipodom                float64\n",
      " 19  cod_prov               float64\n",
      " 20  nomprov                object \n",
      " 21  ind_actividad_cliente  float64\n",
      " 22  renta                  float64\n",
      " 23  segmento               object \n",
      " 24  ind_ahor_fin_ult1      int64  \n",
      " 25  ind_aval_fin_ult1      int64  \n",
      " 26  ind_cco_fin_ult1       int64  \n",
      " 27  ind_cder_fin_ult1      int64  \n",
      " 28  ind_cno_fin_ult1       int64  \n",
      " 29  ind_ctju_fin_ult1      int64  \n",
      " 30  ind_ctma_fin_ult1      int64  \n",
      " 31  ind_ctop_fin_ult1      int64  \n",
      " 32  ind_ctpp_fin_ult1      int64  \n",
      " 33  ind_deco_fin_ult1      int64  \n",
      " 34  ind_deme_fin_ult1      int64  \n",
      " 35  ind_dela_fin_ult1      int64  \n",
      " 36  ind_ecue_fin_ult1      int64  \n",
      " 37  ind_fond_fin_ult1      int64  \n",
      " 38  ind_hip_fin_ult1       int64  \n",
      " 39  ind_plan_fin_ult1      int64  \n",
      " 40  ind_pres_fin_ult1      int64  \n",
      " 41  ind_reca_fin_ult1      int64  \n",
      " 42  ind_tjcr_fin_ult1      int64  \n",
      " 43  ind_valo_fin_ult1      int64  \n",
      " 44  ind_viv_fin_ult1       int64  \n",
      " 45  ind_nomina_ult1        float64\n",
      " 46  ind_nom_pens_ult1      float64\n",
      " 47  ind_recibo_ult1        int64  \n",
      "dtypes: float64(8), int64(23), object(17)\n",
      "memory usage: 4.9+ GB\n"
     ]
    }
   ],
   "source": [
    "TrainData.info()"
   ]
  },
  {
   "cell_type": "code",
   "execution_count": 10,
   "id": "a676d65e",
   "metadata": {},
   "outputs": [
    {
     "data": {
      "text/html": [
       "<div>\n",
       "<style scoped>\n",
       "    .dataframe tbody tr th:only-of-type {\n",
       "        vertical-align: middle;\n",
       "    }\n",
       "\n",
       "    .dataframe tbody tr th {\n",
       "        vertical-align: top;\n",
       "    }\n",
       "\n",
       "    .dataframe thead th {\n",
       "        text-align: right;\n",
       "    }\n",
       "</style>\n",
       "<table border=\"1\" class=\"dataframe\">\n",
       "  <thead>\n",
       "    <tr style=\"text-align: right;\">\n",
       "      <th></th>\n",
       "      <th>fecha_dato</th>\n",
       "      <th>ncodpers</th>\n",
       "      <th>ind_empleado</th>\n",
       "      <th>pais_residencia</th>\n",
       "      <th>sexo</th>\n",
       "      <th>age</th>\n",
       "      <th>fecha_alta</th>\n",
       "      <th>ind_nuevo</th>\n",
       "      <th>antiguedad</th>\n",
       "      <th>indrel</th>\n",
       "      <th>...</th>\n",
       "      <th>indext</th>\n",
       "      <th>conyuemp</th>\n",
       "      <th>canal_entrada</th>\n",
       "      <th>indfall</th>\n",
       "      <th>tipodom</th>\n",
       "      <th>cod_prov</th>\n",
       "      <th>nomprov</th>\n",
       "      <th>ind_actividad_cliente</th>\n",
       "      <th>renta</th>\n",
       "      <th>segmento</th>\n",
       "    </tr>\n",
       "  </thead>\n",
       "  <tbody>\n",
       "    <tr>\n",
       "      <th>0</th>\n",
       "      <td>2016-06-28</td>\n",
       "      <td>15889</td>\n",
       "      <td>F</td>\n",
       "      <td>ES</td>\n",
       "      <td>V</td>\n",
       "      <td>56</td>\n",
       "      <td>1995-01-16</td>\n",
       "      <td>0</td>\n",
       "      <td>256</td>\n",
       "      <td>1</td>\n",
       "      <td>...</td>\n",
       "      <td>N</td>\n",
       "      <td>N</td>\n",
       "      <td>KAT</td>\n",
       "      <td>N</td>\n",
       "      <td>1</td>\n",
       "      <td>28.0</td>\n",
       "      <td>MADRID</td>\n",
       "      <td>1</td>\n",
       "      <td>326124.90</td>\n",
       "      <td>01 - TOP</td>\n",
       "    </tr>\n",
       "    <tr>\n",
       "      <th>1</th>\n",
       "      <td>2016-06-28</td>\n",
       "      <td>1170544</td>\n",
       "      <td>N</td>\n",
       "      <td>ES</td>\n",
       "      <td>H</td>\n",
       "      <td>36</td>\n",
       "      <td>2013-08-28</td>\n",
       "      <td>0</td>\n",
       "      <td>34</td>\n",
       "      <td>1</td>\n",
       "      <td>...</td>\n",
       "      <td>N</td>\n",
       "      <td>NaN</td>\n",
       "      <td>KAT</td>\n",
       "      <td>N</td>\n",
       "      <td>1</td>\n",
       "      <td>3.0</td>\n",
       "      <td>ALICANTE</td>\n",
       "      <td>0</td>\n",
       "      <td>NA</td>\n",
       "      <td>02 - PARTICULARES</td>\n",
       "    </tr>\n",
       "    <tr>\n",
       "      <th>2</th>\n",
       "      <td>2016-06-28</td>\n",
       "      <td>1170545</td>\n",
       "      <td>N</td>\n",
       "      <td>ES</td>\n",
       "      <td>V</td>\n",
       "      <td>22</td>\n",
       "      <td>2013-08-28</td>\n",
       "      <td>0</td>\n",
       "      <td>34</td>\n",
       "      <td>1</td>\n",
       "      <td>...</td>\n",
       "      <td>N</td>\n",
       "      <td>NaN</td>\n",
       "      <td>KHE</td>\n",
       "      <td>N</td>\n",
       "      <td>1</td>\n",
       "      <td>15.0</td>\n",
       "      <td>CORUÑA, A</td>\n",
       "      <td>1</td>\n",
       "      <td>NA</td>\n",
       "      <td>03 - UNIVERSITARIO</td>\n",
       "    </tr>\n",
       "    <tr>\n",
       "      <th>3</th>\n",
       "      <td>2016-06-28</td>\n",
       "      <td>1170547</td>\n",
       "      <td>N</td>\n",
       "      <td>ES</td>\n",
       "      <td>H</td>\n",
       "      <td>22</td>\n",
       "      <td>2013-08-28</td>\n",
       "      <td>0</td>\n",
       "      <td>34</td>\n",
       "      <td>1</td>\n",
       "      <td>...</td>\n",
       "      <td>N</td>\n",
       "      <td>NaN</td>\n",
       "      <td>KHE</td>\n",
       "      <td>N</td>\n",
       "      <td>1</td>\n",
       "      <td>8.0</td>\n",
       "      <td>BARCELONA</td>\n",
       "      <td>0</td>\n",
       "      <td>148402.98</td>\n",
       "      <td>03 - UNIVERSITARIO</td>\n",
       "    </tr>\n",
       "    <tr>\n",
       "      <th>4</th>\n",
       "      <td>2016-06-28</td>\n",
       "      <td>1170548</td>\n",
       "      <td>N</td>\n",
       "      <td>ES</td>\n",
       "      <td>H</td>\n",
       "      <td>22</td>\n",
       "      <td>2013-08-28</td>\n",
       "      <td>0</td>\n",
       "      <td>34</td>\n",
       "      <td>1</td>\n",
       "      <td>...</td>\n",
       "      <td>N</td>\n",
       "      <td>NaN</td>\n",
       "      <td>KHE</td>\n",
       "      <td>N</td>\n",
       "      <td>1</td>\n",
       "      <td>7.0</td>\n",
       "      <td>BALEARS, ILLES</td>\n",
       "      <td>0</td>\n",
       "      <td>106885.80</td>\n",
       "      <td>03 - UNIVERSITARIO</td>\n",
       "    </tr>\n",
       "    <tr>\n",
       "      <th>5</th>\n",
       "      <td>2016-06-28</td>\n",
       "      <td>1170550</td>\n",
       "      <td>N</td>\n",
       "      <td>ES</td>\n",
       "      <td>V</td>\n",
       "      <td>22</td>\n",
       "      <td>2013-08-28</td>\n",
       "      <td>0</td>\n",
       "      <td>34</td>\n",
       "      <td>1</td>\n",
       "      <td>...</td>\n",
       "      <td>N</td>\n",
       "      <td>NaN</td>\n",
       "      <td>KHE</td>\n",
       "      <td>N</td>\n",
       "      <td>1</td>\n",
       "      <td>8.0</td>\n",
       "      <td>BARCELONA</td>\n",
       "      <td>0</td>\n",
       "      <td>NA</td>\n",
       "      <td>03 - UNIVERSITARIO</td>\n",
       "    </tr>\n",
       "    <tr>\n",
       "      <th>6</th>\n",
       "      <td>2016-06-28</td>\n",
       "      <td>1170552</td>\n",
       "      <td>N</td>\n",
       "      <td>ES</td>\n",
       "      <td>H</td>\n",
       "      <td>51</td>\n",
       "      <td>2013-08-28</td>\n",
       "      <td>0</td>\n",
       "      <td>34</td>\n",
       "      <td>1</td>\n",
       "      <td>...</td>\n",
       "      <td>N</td>\n",
       "      <td>NaN</td>\n",
       "      <td>KFC</td>\n",
       "      <td>N</td>\n",
       "      <td>1</td>\n",
       "      <td>35.0</td>\n",
       "      <td>PALMAS, LAS</td>\n",
       "      <td>1</td>\n",
       "      <td>96395.88</td>\n",
       "      <td>02 - PARTICULARES</td>\n",
       "    </tr>\n",
       "    <tr>\n",
       "      <th>7</th>\n",
       "      <td>2016-06-28</td>\n",
       "      <td>1170553</td>\n",
       "      <td>N</td>\n",
       "      <td>ES</td>\n",
       "      <td>H</td>\n",
       "      <td>22</td>\n",
       "      <td>2013-08-28</td>\n",
       "      <td>0</td>\n",
       "      <td>34</td>\n",
       "      <td>1</td>\n",
       "      <td>...</td>\n",
       "      <td>N</td>\n",
       "      <td>NaN</td>\n",
       "      <td>KHE</td>\n",
       "      <td>N</td>\n",
       "      <td>1</td>\n",
       "      <td>45.0</td>\n",
       "      <td>TOLEDO</td>\n",
       "      <td>0</td>\n",
       "      <td>NA</td>\n",
       "      <td>03 - UNIVERSITARIO</td>\n",
       "    </tr>\n",
       "    <tr>\n",
       "      <th>8</th>\n",
       "      <td>2016-06-28</td>\n",
       "      <td>1170555</td>\n",
       "      <td>N</td>\n",
       "      <td>ES</td>\n",
       "      <td>V</td>\n",
       "      <td>22</td>\n",
       "      <td>2013-08-28</td>\n",
       "      <td>0</td>\n",
       "      <td>34</td>\n",
       "      <td>1</td>\n",
       "      <td>...</td>\n",
       "      <td>N</td>\n",
       "      <td>NaN</td>\n",
       "      <td>KHE</td>\n",
       "      <td>N</td>\n",
       "      <td>1</td>\n",
       "      <td>28.0</td>\n",
       "      <td>MADRID</td>\n",
       "      <td>0</td>\n",
       "      <td>NA</td>\n",
       "      <td>03 - UNIVERSITARIO</td>\n",
       "    </tr>\n",
       "    <tr>\n",
       "      <th>9</th>\n",
       "      <td>2016-06-28</td>\n",
       "      <td>1170557</td>\n",
       "      <td>N</td>\n",
       "      <td>ES</td>\n",
       "      <td>H</td>\n",
       "      <td>22</td>\n",
       "      <td>2013-08-28</td>\n",
       "      <td>0</td>\n",
       "      <td>34</td>\n",
       "      <td>1</td>\n",
       "      <td>...</td>\n",
       "      <td>N</td>\n",
       "      <td>NaN</td>\n",
       "      <td>KHE</td>\n",
       "      <td>N</td>\n",
       "      <td>1</td>\n",
       "      <td>15.0</td>\n",
       "      <td>CORUÑA, A</td>\n",
       "      <td>1</td>\n",
       "      <td>68322.72</td>\n",
       "      <td>03 - UNIVERSITARIO</td>\n",
       "    </tr>\n",
       "  </tbody>\n",
       "</table>\n",
       "<p>10 rows × 24 columns</p>\n",
       "</div>"
      ],
      "text/plain": [
       "   fecha_dato  ncodpers ind_empleado pais_residencia sexo  age  fecha_alta  \\\n",
       "0  2016-06-28     15889            F              ES    V   56  1995-01-16   \n",
       "1  2016-06-28   1170544            N              ES    H   36  2013-08-28   \n",
       "2  2016-06-28   1170545            N              ES    V   22  2013-08-28   \n",
       "3  2016-06-28   1170547            N              ES    H   22  2013-08-28   \n",
       "4  2016-06-28   1170548            N              ES    H   22  2013-08-28   \n",
       "5  2016-06-28   1170550            N              ES    V   22  2013-08-28   \n",
       "6  2016-06-28   1170552            N              ES    H   51  2013-08-28   \n",
       "7  2016-06-28   1170553            N              ES    H   22  2013-08-28   \n",
       "8  2016-06-28   1170555            N              ES    V   22  2013-08-28   \n",
       "9  2016-06-28   1170557            N              ES    H   22  2013-08-28   \n",
       "\n",
       "   ind_nuevo  antiguedad  indrel  ... indext  conyuemp canal_entrada indfall  \\\n",
       "0          0         256       1  ...      N         N           KAT       N   \n",
       "1          0          34       1  ...      N       NaN           KAT       N   \n",
       "2          0          34       1  ...      N       NaN           KHE       N   \n",
       "3          0          34       1  ...      N       NaN           KHE       N   \n",
       "4          0          34       1  ...      N       NaN           KHE       N   \n",
       "5          0          34       1  ...      N       NaN           KHE       N   \n",
       "6          0          34       1  ...      N       NaN           KFC       N   \n",
       "7          0          34       1  ...      N       NaN           KHE       N   \n",
       "8          0          34       1  ...      N       NaN           KHE       N   \n",
       "9          0          34       1  ...      N       NaN           KHE       N   \n",
       "\n",
       "  tipodom cod_prov         nomprov ind_actividad_cliente        renta  \\\n",
       "0       1     28.0          MADRID                     1    326124.90   \n",
       "1       1      3.0        ALICANTE                     0           NA   \n",
       "2       1     15.0       CORUÑA, A                     1           NA   \n",
       "3       1      8.0       BARCELONA                     0    148402.98   \n",
       "4       1      7.0  BALEARS, ILLES                     0    106885.80   \n",
       "5       1      8.0       BARCELONA                     0           NA   \n",
       "6       1     35.0     PALMAS, LAS                     1     96395.88   \n",
       "7       1     45.0          TOLEDO                     0           NA   \n",
       "8       1     28.0          MADRID                     0           NA   \n",
       "9       1     15.0       CORUÑA, A                     1     68322.72   \n",
       "\n",
       "             segmento  \n",
       "0            01 - TOP  \n",
       "1   02 - PARTICULARES  \n",
       "2  03 - UNIVERSITARIO  \n",
       "3  03 - UNIVERSITARIO  \n",
       "4  03 - UNIVERSITARIO  \n",
       "5  03 - UNIVERSITARIO  \n",
       "6   02 - PARTICULARES  \n",
       "7  03 - UNIVERSITARIO  \n",
       "8  03 - UNIVERSITARIO  \n",
       "9  03 - UNIVERSITARIO  \n",
       "\n",
       "[10 rows x 24 columns]"
      ]
     },
     "execution_count": 10,
     "metadata": {},
     "output_type": "execute_result"
    }
   ],
   "source": [
    "TestData.head(10)"
   ]
  },
  {
   "cell_type": "code",
   "execution_count": 11,
   "id": "59d5ac68",
   "metadata": {},
   "outputs": [
    {
     "data": {
      "text/html": [
       "<div>\n",
       "<style scoped>\n",
       "    .dataframe tbody tr th:only-of-type {\n",
       "        vertical-align: middle;\n",
       "    }\n",
       "\n",
       "    .dataframe tbody tr th {\n",
       "        vertical-align: top;\n",
       "    }\n",
       "\n",
       "    .dataframe thead th {\n",
       "        text-align: right;\n",
       "    }\n",
       "</style>\n",
       "<table border=\"1\" class=\"dataframe\">\n",
       "  <thead>\n",
       "    <tr style=\"text-align: right;\">\n",
       "      <th></th>\n",
       "      <th>fecha_dato</th>\n",
       "      <th>ncodpers</th>\n",
       "      <th>ind_empleado</th>\n",
       "      <th>pais_residencia</th>\n",
       "      <th>sexo</th>\n",
       "      <th>age</th>\n",
       "      <th>fecha_alta</th>\n",
       "      <th>ind_nuevo</th>\n",
       "      <th>antiguedad</th>\n",
       "      <th>indrel</th>\n",
       "      <th>...</th>\n",
       "      <th>ind_hip_fin_ult1</th>\n",
       "      <th>ind_plan_fin_ult1</th>\n",
       "      <th>ind_pres_fin_ult1</th>\n",
       "      <th>ind_reca_fin_ult1</th>\n",
       "      <th>ind_tjcr_fin_ult1</th>\n",
       "      <th>ind_valo_fin_ult1</th>\n",
       "      <th>ind_viv_fin_ult1</th>\n",
       "      <th>ind_nomina_ult1</th>\n",
       "      <th>ind_nom_pens_ult1</th>\n",
       "      <th>ind_recibo_ult1</th>\n",
       "    </tr>\n",
       "  </thead>\n",
       "  <tbody>\n",
       "    <tr>\n",
       "      <th>0</th>\n",
       "      <td>2015-01-28</td>\n",
       "      <td>1375586</td>\n",
       "      <td>N</td>\n",
       "      <td>ES</td>\n",
       "      <td>H</td>\n",
       "      <td>35</td>\n",
       "      <td>2015-01-12</td>\n",
       "      <td>0.0</td>\n",
       "      <td>6</td>\n",
       "      <td>1.0</td>\n",
       "      <td>...</td>\n",
       "      <td>0</td>\n",
       "      <td>0</td>\n",
       "      <td>0</td>\n",
       "      <td>0</td>\n",
       "      <td>0</td>\n",
       "      <td>0</td>\n",
       "      <td>0</td>\n",
       "      <td>0.0</td>\n",
       "      <td>0.0</td>\n",
       "      <td>0</td>\n",
       "    </tr>\n",
       "    <tr>\n",
       "      <th>1</th>\n",
       "      <td>2015-01-28</td>\n",
       "      <td>1050611</td>\n",
       "      <td>N</td>\n",
       "      <td>ES</td>\n",
       "      <td>V</td>\n",
       "      <td>23</td>\n",
       "      <td>2012-08-10</td>\n",
       "      <td>0.0</td>\n",
       "      <td>35</td>\n",
       "      <td>1.0</td>\n",
       "      <td>...</td>\n",
       "      <td>0</td>\n",
       "      <td>0</td>\n",
       "      <td>0</td>\n",
       "      <td>0</td>\n",
       "      <td>0</td>\n",
       "      <td>0</td>\n",
       "      <td>0</td>\n",
       "      <td>0.0</td>\n",
       "      <td>0.0</td>\n",
       "      <td>0</td>\n",
       "    </tr>\n",
       "    <tr>\n",
       "      <th>2</th>\n",
       "      <td>2015-01-28</td>\n",
       "      <td>1050612</td>\n",
       "      <td>N</td>\n",
       "      <td>ES</td>\n",
       "      <td>V</td>\n",
       "      <td>23</td>\n",
       "      <td>2012-08-10</td>\n",
       "      <td>0.0</td>\n",
       "      <td>35</td>\n",
       "      <td>1.0</td>\n",
       "      <td>...</td>\n",
       "      <td>0</td>\n",
       "      <td>0</td>\n",
       "      <td>0</td>\n",
       "      <td>0</td>\n",
       "      <td>0</td>\n",
       "      <td>0</td>\n",
       "      <td>0</td>\n",
       "      <td>0.0</td>\n",
       "      <td>0.0</td>\n",
       "      <td>0</td>\n",
       "    </tr>\n",
       "    <tr>\n",
       "      <th>3</th>\n",
       "      <td>2015-01-28</td>\n",
       "      <td>1050613</td>\n",
       "      <td>N</td>\n",
       "      <td>ES</td>\n",
       "      <td>H</td>\n",
       "      <td>22</td>\n",
       "      <td>2012-08-10</td>\n",
       "      <td>0.0</td>\n",
       "      <td>35</td>\n",
       "      <td>1.0</td>\n",
       "      <td>...</td>\n",
       "      <td>0</td>\n",
       "      <td>0</td>\n",
       "      <td>0</td>\n",
       "      <td>0</td>\n",
       "      <td>0</td>\n",
       "      <td>0</td>\n",
       "      <td>0</td>\n",
       "      <td>0.0</td>\n",
       "      <td>0.0</td>\n",
       "      <td>0</td>\n",
       "    </tr>\n",
       "    <tr>\n",
       "      <th>4</th>\n",
       "      <td>2015-01-28</td>\n",
       "      <td>1050614</td>\n",
       "      <td>N</td>\n",
       "      <td>ES</td>\n",
       "      <td>V</td>\n",
       "      <td>23</td>\n",
       "      <td>2012-08-10</td>\n",
       "      <td>0.0</td>\n",
       "      <td>35</td>\n",
       "      <td>1.0</td>\n",
       "      <td>...</td>\n",
       "      <td>0</td>\n",
       "      <td>0</td>\n",
       "      <td>0</td>\n",
       "      <td>0</td>\n",
       "      <td>0</td>\n",
       "      <td>0</td>\n",
       "      <td>0</td>\n",
       "      <td>0.0</td>\n",
       "      <td>0.0</td>\n",
       "      <td>0</td>\n",
       "    </tr>\n",
       "    <tr>\n",
       "      <th>5</th>\n",
       "      <td>2015-01-28</td>\n",
       "      <td>1050615</td>\n",
       "      <td>N</td>\n",
       "      <td>ES</td>\n",
       "      <td>H</td>\n",
       "      <td>23</td>\n",
       "      <td>2012-08-10</td>\n",
       "      <td>0.0</td>\n",
       "      <td>35</td>\n",
       "      <td>1.0</td>\n",
       "      <td>...</td>\n",
       "      <td>0</td>\n",
       "      <td>0</td>\n",
       "      <td>0</td>\n",
       "      <td>0</td>\n",
       "      <td>0</td>\n",
       "      <td>0</td>\n",
       "      <td>0</td>\n",
       "      <td>0.0</td>\n",
       "      <td>0.0</td>\n",
       "      <td>0</td>\n",
       "    </tr>\n",
       "    <tr>\n",
       "      <th>6</th>\n",
       "      <td>2015-01-28</td>\n",
       "      <td>1050616</td>\n",
       "      <td>N</td>\n",
       "      <td>ES</td>\n",
       "      <td>H</td>\n",
       "      <td>23</td>\n",
       "      <td>2012-08-10</td>\n",
       "      <td>0.0</td>\n",
       "      <td>35</td>\n",
       "      <td>1.0</td>\n",
       "      <td>...</td>\n",
       "      <td>0</td>\n",
       "      <td>0</td>\n",
       "      <td>0</td>\n",
       "      <td>0</td>\n",
       "      <td>0</td>\n",
       "      <td>0</td>\n",
       "      <td>0</td>\n",
       "      <td>0.0</td>\n",
       "      <td>0.0</td>\n",
       "      <td>0</td>\n",
       "    </tr>\n",
       "    <tr>\n",
       "      <th>7</th>\n",
       "      <td>2015-01-28</td>\n",
       "      <td>1050617</td>\n",
       "      <td>N</td>\n",
       "      <td>ES</td>\n",
       "      <td>H</td>\n",
       "      <td>23</td>\n",
       "      <td>2012-08-10</td>\n",
       "      <td>0.0</td>\n",
       "      <td>35</td>\n",
       "      <td>1.0</td>\n",
       "      <td>...</td>\n",
       "      <td>0</td>\n",
       "      <td>0</td>\n",
       "      <td>0</td>\n",
       "      <td>0</td>\n",
       "      <td>0</td>\n",
       "      <td>0</td>\n",
       "      <td>0</td>\n",
       "      <td>0.0</td>\n",
       "      <td>0.0</td>\n",
       "      <td>0</td>\n",
       "    </tr>\n",
       "    <tr>\n",
       "      <th>8</th>\n",
       "      <td>2015-01-28</td>\n",
       "      <td>1050619</td>\n",
       "      <td>N</td>\n",
       "      <td>ES</td>\n",
       "      <td>H</td>\n",
       "      <td>24</td>\n",
       "      <td>2012-08-10</td>\n",
       "      <td>0.0</td>\n",
       "      <td>35</td>\n",
       "      <td>1.0</td>\n",
       "      <td>...</td>\n",
       "      <td>0</td>\n",
       "      <td>0</td>\n",
       "      <td>0</td>\n",
       "      <td>0</td>\n",
       "      <td>0</td>\n",
       "      <td>0</td>\n",
       "      <td>0</td>\n",
       "      <td>0.0</td>\n",
       "      <td>0.0</td>\n",
       "      <td>0</td>\n",
       "    </tr>\n",
       "    <tr>\n",
       "      <th>9</th>\n",
       "      <td>2015-01-28</td>\n",
       "      <td>1050620</td>\n",
       "      <td>N</td>\n",
       "      <td>ES</td>\n",
       "      <td>H</td>\n",
       "      <td>23</td>\n",
       "      <td>2012-08-10</td>\n",
       "      <td>0.0</td>\n",
       "      <td>35</td>\n",
       "      <td>1.0</td>\n",
       "      <td>...</td>\n",
       "      <td>0</td>\n",
       "      <td>0</td>\n",
       "      <td>0</td>\n",
       "      <td>0</td>\n",
       "      <td>0</td>\n",
       "      <td>0</td>\n",
       "      <td>0</td>\n",
       "      <td>0.0</td>\n",
       "      <td>0.0</td>\n",
       "      <td>0</td>\n",
       "    </tr>\n",
       "  </tbody>\n",
       "</table>\n",
       "<p>10 rows × 48 columns</p>\n",
       "</div>"
      ],
      "text/plain": [
       "   fecha_dato  ncodpers ind_empleado pais_residencia sexo  age  fecha_alta  \\\n",
       "0  2015-01-28   1375586            N              ES    H   35  2015-01-12   \n",
       "1  2015-01-28   1050611            N              ES    V   23  2012-08-10   \n",
       "2  2015-01-28   1050612            N              ES    V   23  2012-08-10   \n",
       "3  2015-01-28   1050613            N              ES    H   22  2012-08-10   \n",
       "4  2015-01-28   1050614            N              ES    V   23  2012-08-10   \n",
       "5  2015-01-28   1050615            N              ES    H   23  2012-08-10   \n",
       "6  2015-01-28   1050616            N              ES    H   23  2012-08-10   \n",
       "7  2015-01-28   1050617            N              ES    H   23  2012-08-10   \n",
       "8  2015-01-28   1050619            N              ES    H   24  2012-08-10   \n",
       "9  2015-01-28   1050620            N              ES    H   23  2012-08-10   \n",
       "\n",
       "   ind_nuevo antiguedad  indrel  ... ind_hip_fin_ult1 ind_plan_fin_ult1  \\\n",
       "0        0.0          6     1.0  ...                0                 0   \n",
       "1        0.0         35     1.0  ...                0                 0   \n",
       "2        0.0         35     1.0  ...                0                 0   \n",
       "3        0.0         35     1.0  ...                0                 0   \n",
       "4        0.0         35     1.0  ...                0                 0   \n",
       "5        0.0         35     1.0  ...                0                 0   \n",
       "6        0.0         35     1.0  ...                0                 0   \n",
       "7        0.0         35     1.0  ...                0                 0   \n",
       "8        0.0         35     1.0  ...                0                 0   \n",
       "9        0.0         35     1.0  ...                0                 0   \n",
       "\n",
       "  ind_pres_fin_ult1 ind_reca_fin_ult1 ind_tjcr_fin_ult1 ind_valo_fin_ult1  \\\n",
       "0                 0                 0                 0                 0   \n",
       "1                 0                 0                 0                 0   \n",
       "2                 0                 0                 0                 0   \n",
       "3                 0                 0                 0                 0   \n",
       "4                 0                 0                 0                 0   \n",
       "5                 0                 0                 0                 0   \n",
       "6                 0                 0                 0                 0   \n",
       "7                 0                 0                 0                 0   \n",
       "8                 0                 0                 0                 0   \n",
       "9                 0                 0                 0                 0   \n",
       "\n",
       "  ind_viv_fin_ult1 ind_nomina_ult1  ind_nom_pens_ult1  ind_recibo_ult1  \n",
       "0                0             0.0                0.0                0  \n",
       "1                0             0.0                0.0                0  \n",
       "2                0             0.0                0.0                0  \n",
       "3                0             0.0                0.0                0  \n",
       "4                0             0.0                0.0                0  \n",
       "5                0             0.0                0.0                0  \n",
       "6                0             0.0                0.0                0  \n",
       "7                0             0.0                0.0                0  \n",
       "8                0             0.0                0.0                0  \n",
       "9                0             0.0                0.0                0  \n",
       "\n",
       "[10 rows x 48 columns]"
      ]
     },
     "execution_count": 11,
     "metadata": {},
     "output_type": "execute_result"
    }
   ],
   "source": [
    "TrainData.head(10)"
   ]
  },
  {
   "cell_type": "code",
   "execution_count": 15,
   "id": "1e9df6aa",
   "metadata": {},
   "outputs": [
    {
     "name": "stdout",
     "output_type": "stream",
     "text": [
      "Number of rows in test set 929615\n",
      "Number of rows in train set 13647309\n",
      "Number of Unique Customer in test set: 929615\n",
      "Number of Unique Customer in train set: 956645\n"
     ]
    }
   ],
   "source": [
    "print('Number of rows in test set', TestData.shape[0])\n",
    "print('Number of rows in train set', TrainData.shape[0])\n",
    "\n",
    "print('Number of Unique Customer in test set:', len(set(TestData.ncodpers.unique())))\n",
    "print('Number of Unique Customer in train set:', len(set(TrainData.ncodpers.unique())))"
   ]
  },
  {
   "cell_type": "markdown",
   "id": "67b589b7",
   "metadata": {},
   "source": [
    "### Selecting sample dataset of 5 million rows"
   ]
  },
  {
   "cell_type": "code",
   "execution_count": 56,
   "id": "ed7472f2",
   "metadata": {},
   "outputs": [],
   "source": [
    "del TrainData\n",
    "del TestData"
   ]
  },
  {
   "cell_type": "code",
   "execution_count": 5,
   "id": "71609e85",
   "metadata": {},
   "outputs": [],
   "source": [
    "CustomerData = pd.read_csv('C:/Users/pavan/JN/Train.csv',\n",
    "                              dtype={\"sexo\":str, \"ind_nuevo\":str, \n",
    "                                      \"ult_fec_cli_1t\":str, \n",
    "                                      \"indext\":str}, nrows=5e6)"
   ]
  },
  {
   "cell_type": "code",
   "execution_count": 5,
   "id": "e74972f1",
   "metadata": {},
   "outputs": [
    {
     "name": "stdout",
     "output_type": "stream",
     "text": [
      "<class 'pandas.core.frame.DataFrame'>\n",
      "Int64Index: 2985114 entries, 2 to 4999997\n",
      "Data columns (total 48 columns):\n",
      " #   Column                 Dtype  \n",
      "---  ------                 -----  \n",
      " 0   fecha_dato             object \n",
      " 1   ncodpers               int64  \n",
      " 2   ind_empleado           object \n",
      " 3   pais_residencia        object \n",
      " 4   sexo                   object \n",
      " 5   age                    object \n",
      " 6   fecha_alta             object \n",
      " 7   ind_nuevo              object \n",
      " 8   antiguedad             object \n",
      " 9   indrel                 float64\n",
      " 10  ult_fec_cli_1t         object \n",
      " 11  indrel_1mes            object \n",
      " 12  tiprel_1mes            object \n",
      " 13  indresi                object \n",
      " 14  indext                 object \n",
      " 15  conyuemp               object \n",
      " 16  canal_entrada          object \n",
      " 17  indfall                object \n",
      " 18  tipodom                float64\n",
      " 19  cod_prov               float64\n",
      " 20  nomprov                object \n",
      " 21  ind_actividad_cliente  float64\n",
      " 22  renta                  float64\n",
      " 23  segmento               object \n",
      " 24  ind_ahor_fin_ult1      int64  \n",
      " 25  ind_aval_fin_ult1      int64  \n",
      " 26  ind_cco_fin_ult1       int64  \n",
      " 27  ind_cder_fin_ult1      int64  \n",
      " 28  ind_cno_fin_ult1       int64  \n",
      " 29  ind_ctju_fin_ult1      int64  \n",
      " 30  ind_ctma_fin_ult1      int64  \n",
      " 31  ind_ctop_fin_ult1      int64  \n",
      " 32  ind_ctpp_fin_ult1      int64  \n",
      " 33  ind_deco_fin_ult1      int64  \n",
      " 34  ind_deme_fin_ult1      int64  \n",
      " 35  ind_dela_fin_ult1      int64  \n",
      " 36  ind_ecue_fin_ult1      int64  \n",
      " 37  ind_fond_fin_ult1      int64  \n",
      " 38  ind_hip_fin_ult1       int64  \n",
      " 39  ind_plan_fin_ult1      int64  \n",
      " 40  ind_pres_fin_ult1      int64  \n",
      " 41  ind_reca_fin_ult1      int64  \n",
      " 42  ind_tjcr_fin_ult1      int64  \n",
      " 43  ind_valo_fin_ult1      int64  \n",
      " 44  ind_viv_fin_ult1       int64  \n",
      " 45  ind_nomina_ult1        float64\n",
      " 46  ind_nom_pens_ult1      float64\n",
      " 47  ind_recibo_ult1        int64  \n",
      "dtypes: float64(7), int64(23), object(18)\n",
      "memory usage: 1.1+ GB\n"
     ]
    }
   ],
   "source": [
    "n = 500000\n",
    "unique_ids = pd.Series(CustomerData[\"ncodpers\"].unique())\n",
    "unique_id = unique_ids.sample(n)\n",
    "CustomerData = CustomerData[CustomerData.ncodpers.isin(unique_id)]\n",
    "CustomerData.info()"
   ]
  },
  {
   "cell_type": "markdown",
   "id": "d6575565",
   "metadata": {},
   "source": [
    "### Missing Values in the columns"
   ]
  },
  {
   "cell_type": "code",
   "execution_count": 6,
   "id": "1c761aa8",
   "metadata": {},
   "outputs": [
    {
     "data": {
      "text/plain": [
       "fecha_dato                     0\n",
       "ncodpers                       0\n",
       "ind_empleado               16154\n",
       "pais_residencia            16154\n",
       "sexo                       16162\n",
       "age                            0\n",
       "fecha_alta                 16154\n",
       "ind_nuevo                  16154\n",
       "antiguedad                     0\n",
       "indrel                     16154\n",
       "ult_fec_cli_1t           2981210\n",
       "indrel_1mes                25916\n",
       "tiprel_1mes                25916\n",
       "indresi                    16154\n",
       "indext                     16154\n",
       "conyuemp                 2984710\n",
       "canal_entrada              28005\n",
       "indfall                    16154\n",
       "tipodom                    16154\n",
       "cod_prov                   33180\n",
       "nomprov                    33180\n",
       "ind_actividad_cliente      16154\n",
       "renta                     519541\n",
       "segmento                   28225\n",
       "ind_ahor_fin_ult1              0\n",
       "ind_aval_fin_ult1              0\n",
       "ind_cco_fin_ult1               0\n",
       "ind_cder_fin_ult1              0\n",
       "ind_cno_fin_ult1               0\n",
       "ind_ctju_fin_ult1              0\n",
       "ind_ctma_fin_ult1              0\n",
       "ind_ctop_fin_ult1              0\n",
       "ind_ctpp_fin_ult1              0\n",
       "ind_deco_fin_ult1              0\n",
       "ind_deme_fin_ult1              0\n",
       "ind_dela_fin_ult1              0\n",
       "ind_ecue_fin_ult1              0\n",
       "ind_fond_fin_ult1              0\n",
       "ind_hip_fin_ult1               0\n",
       "ind_plan_fin_ult1              0\n",
       "ind_pres_fin_ult1              0\n",
       "ind_reca_fin_ult1              0\n",
       "ind_tjcr_fin_ult1              0\n",
       "ind_valo_fin_ult1              0\n",
       "ind_viv_fin_ult1               0\n",
       "ind_nomina_ult1             9408\n",
       "ind_nom_pens_ult1           9408\n",
       "ind_recibo_ult1                0\n",
       "dtype: int64"
      ]
     },
     "execution_count": 6,
     "metadata": {},
     "output_type": "execute_result"
    }
   ],
   "source": [
    "CustomerData.isnull().sum()"
   ]
  },
  {
   "cell_type": "markdown",
   "id": "a64eeda0",
   "metadata": {},
   "source": [
    "### ind_empleado\",\"ind_nuevo\",\"indresi\" have same number of missing values. Checking if the same rows?"
   ]
  },
  {
   "cell_type": "code",
   "execution_count": 7,
   "id": "272af778",
   "metadata": {},
   "outputs": [
    {
     "data": {
      "text/html": [
       "<div>\n",
       "<style scoped>\n",
       "    .dataframe tbody tr th:only-of-type {\n",
       "        vertical-align: middle;\n",
       "    }\n",
       "\n",
       "    .dataframe tbody tr th {\n",
       "        vertical-align: top;\n",
       "    }\n",
       "\n",
       "    .dataframe thead th {\n",
       "        text-align: right;\n",
       "    }\n",
       "</style>\n",
       "<table border=\"1\" class=\"dataframe\">\n",
       "  <thead>\n",
       "    <tr style=\"text-align: right;\">\n",
       "      <th></th>\n",
       "      <th>ind_empleado</th>\n",
       "      <th>ind_nuevo</th>\n",
       "      <th>indresi</th>\n",
       "    </tr>\n",
       "  </thead>\n",
       "  <tbody>\n",
       "    <tr>\n",
       "      <th>261</th>\n",
       "      <td>NaN</td>\n",
       "      <td>NaN</td>\n",
       "      <td>NaN</td>\n",
       "    </tr>\n",
       "    <tr>\n",
       "      <th>1029</th>\n",
       "      <td>NaN</td>\n",
       "      <td>NaN</td>\n",
       "      <td>NaN</td>\n",
       "    </tr>\n",
       "    <tr>\n",
       "      <th>1063</th>\n",
       "      <td>NaN</td>\n",
       "      <td>NaN</td>\n",
       "      <td>NaN</td>\n",
       "    </tr>\n",
       "    <tr>\n",
       "      <th>1154</th>\n",
       "      <td>NaN</td>\n",
       "      <td>NaN</td>\n",
       "      <td>NaN</td>\n",
       "    </tr>\n",
       "    <tr>\n",
       "      <th>1779</th>\n",
       "      <td>NaN</td>\n",
       "      <td>NaN</td>\n",
       "      <td>NaN</td>\n",
       "    </tr>\n",
       "  </tbody>\n",
       "</table>\n",
       "</div>"
      ],
      "text/plain": [
       "     ind_empleado ind_nuevo indresi\n",
       "261           NaN       NaN     NaN\n",
       "1029          NaN       NaN     NaN\n",
       "1063          NaN       NaN     NaN\n",
       "1154          NaN       NaN     NaN\n",
       "1779          NaN       NaN     NaN"
      ]
     },
     "execution_count": 7,
     "metadata": {},
     "output_type": "execute_result"
    }
   ],
   "source": [
    "CustomerData.loc[CustomerData[\"pais_residencia\"].isnull(),[\"ind_empleado\",\"ind_nuevo\",\"indresi\"]].head()"
   ]
  },
  {
   "cell_type": "markdown",
   "id": "63b60643",
   "metadata": {},
   "source": [
    "### Deleting the columns \"ult_fec_cli_1t\" and \"conyuemp\" which has highest missing values"
   ]
  },
  {
   "cell_type": "code",
   "execution_count": 8,
   "id": "39a9eebb",
   "metadata": {},
   "outputs": [],
   "source": [
    "CustomerData = CustomerData.drop([\"ult_fec_cli_1t\", \"conyuemp\"], axis=1) "
   ]
  },
  {
   "cell_type": "code",
   "execution_count": 9,
   "id": "d9e5b49e",
   "metadata": {},
   "outputs": [
    {
     "data": {
      "text/plain": [
       "2985114"
      ]
     },
     "execution_count": 9,
     "metadata": {},
     "output_type": "execute_result"
    }
   ],
   "source": [
    "CustomerData.ncodpers.count()"
   ]
  },
  {
   "cell_type": "markdown",
   "id": "4208bb64",
   "metadata": {},
   "source": [
    "### Data type updation"
   ]
  },
  {
   "cell_type": "code",
   "execution_count": 10,
   "id": "f765ac05",
   "metadata": {},
   "outputs": [],
   "source": [
    "# Converting into numbers\n",
    "CustomerData.indrel_1mes = pd.to_numeric(CustomerData.indrel_1mes, errors = 'coerce')\n",
    "CustomerData.age = pd.to_numeric(CustomerData.age, errors = 'coerce')\n",
    "CustomerData.antiguedad = pd.to_numeric(CustomerData.antiguedad, errors = 'coerce')\n"
   ]
  },
  {
   "cell_type": "code",
   "execution_count": 95,
   "id": "e0de175e",
   "metadata": {},
   "outputs": [],
   "source": [
    "StringData = CustomerData.select_dtypes(include=[\"object\"])\n",
    "del StringData"
   ]
  },
  {
   "cell_type": "markdown",
   "id": "768df5d2",
   "metadata": {},
   "source": [
    "### Updating Missing Values"
   ]
  },
  {
   "cell_type": "code",
   "execution_count": 42,
   "id": "eed4db1b",
   "metadata": {},
   "outputs": [
    {
     "data": {
      "text/plain": [
       "6"
      ]
     },
     "execution_count": 42,
     "metadata": {},
     "output_type": "execute_result"
    }
   ],
   "source": [
    "# Checking the active months of customers with data missing \n",
    "months_active = CustomerData.loc[CustomerData[\"ind_nuevo\"].isnull(),:].groupby(\"ncodpers\", sort=False).size()\n",
    "months_active.max()"
   ]
  },
  {
   "cell_type": "code",
   "execution_count": 44,
   "id": "178cee5a",
   "metadata": {},
   "outputs": [],
   "source": [
    "# As the customer is new lets update with 1\n",
    "CustomerData.loc[CustomerData[\"ind_nuevo\"].isnull(),\"ind_nuevo\"] = 1"
   ]
  },
  {
   "cell_type": "code",
   "execution_count": 48,
   "id": "ec3175bd",
   "metadata": {},
   "outputs": [],
   "source": [
    "# Assuming same people \n",
    "CustomerData.loc[CustomerData.antiguedad.isnull(),\"antiguedad\"] = CustomerData.antiguedad.min()\n",
    "CustomerData.loc[CustomerData.antiguedad <0, \"antiguedad\"]      = 0"
   ]
  },
  {
   "cell_type": "code",
   "execution_count": 60,
   "id": "0434f897",
   "metadata": {},
   "outputs": [],
   "source": [
    "# As 1 (First/Primary), 99 (Primary customer during the month but not at the end of the month), lets assume as 1\n",
    "CustomerData.loc[CustomerData.indrel.isnull(),\"indrel\"] = 1"
   ]
  },
  {
   "cell_type": "code",
   "execution_count": 50,
   "id": "1766b514",
   "metadata": {},
   "outputs": [
    {
     "data": {
      "text/plain": [
       "count        2985114\n",
       "unique          6356\n",
       "top       2010-11-02\n",
       "freq           16477\n",
       "Name: fecha_alta, dtype: object"
      ]
     },
     "execution_count": 50,
     "metadata": {},
     "output_type": "execute_result"
    }
   ],
   "source": [
    "# replacing date of joining with Median\n",
    "dates=CustomerData.loc[:,\"fecha_alta\"].sort_values().reset_index()\n",
    "median_date = int(np.median(dates.index.values))\n",
    "CustomerData.loc[CustomerData.fecha_alta.isnull(),\"fecha_alta\"] = dates.loc[median_date,\"fecha_alta\"]\n",
    "CustomerData[\"fecha_alta\"].describe()"
   ]
  },
  {
   "cell_type": "code",
   "execution_count": 11,
   "id": "d782e021",
   "metadata": {},
   "outputs": [],
   "source": [
    "# Replacing AGE values with Mean\n",
    "CustomerData.loc[CustomerData.age < 18,\"age\"]  = CustomerData.loc[(CustomerData.age >= 18) & (CustomerData.age <= 30),\"age\"].mean(skipna=True)\n",
    "CustomerData.loc[CustomerData.age > 100,\"age\"] = CustomerData.loc[(CustomerData.age >= 30) & (CustomerData.age <= 100),\"age\"].mean(skipna=True)\n",
    "CustomerData[\"age\"].fillna(CustomerData[\"age\"].mean(),inplace=True)\n",
    "CustomerData[\"age\"] = CustomerData[\"age\"].astype(int)"
   ]
  },
  {
   "cell_type": "code",
   "execution_count": 55,
   "id": "f80751b6",
   "metadata": {},
   "outputs": [],
   "source": [
    "# Replacing with Median\n",
    "CustomerData.loc[CustomerData.ind_actividad_cliente.isnull(),\"ind_actividad_cliente\"] = \\\n",
    "CustomerData[\"ind_actividad_cliente\"].median()"
   ]
  },
  {
   "cell_type": "code",
   "execution_count": 12,
   "id": "d45548b3",
   "metadata": {},
   "outputs": [
    {
     "data": {
      "text/plain": [
       "array(['CIUDAD REAL', 'ZARAGOZA', 'LEON', 'GIPUZKOA', 'CACERES', 'GIRONA',\n",
       "       'ZAMORA', 'SALAMANCA', 'HUESCA', 'NAVARRA', 'TOLEDO', 'SEGOVIA',\n",
       "       'LUGO', 'LERIDA', 'BARCELONA', 'MADRID', 'ALICANTE', 'SORIA',\n",
       "       'CANTABRIA', 'MALAGA', 'BALEARS, ILLES', 'VALLADOLID', 'VALENCIA',\n",
       "       'CORUÑA, A', 'OURENSE', 'JAEN', 'PONTEVEDRA', 'TERUEL', 'BIZKAIA',\n",
       "       'CASTELLON', 'ALBACETE', 'BADAJOZ', 'MURCIA', 'SEVILLA', 'AVILA',\n",
       "       nan, 'BURGOS', 'PALENCIA', 'CUENCA', 'RIOJA, LA', 'CORDOBA',\n",
       "       'CADIZ', 'HUELVA', 'ASTURIAS', 'SANTA CRUZ DE TENERIFE', 'GRANADA',\n",
       "       'ALMERIA', 'GUADALAJARA', 'PALMAS, LAS', 'TARRAGONA', 'ALAVA',\n",
       "       'CEUTA', 'MELILLA'], dtype=object)"
      ]
     },
     "execution_count": 12,
     "metadata": {},
     "output_type": "execute_result"
    }
   ],
   "source": [
    "#missing values of \"Nomprov\" as Unknown\n",
    "CustomerData.nomprov.unique()"
   ]
  },
  {
   "cell_type": "code",
   "execution_count": 13,
   "id": "3a69d80f",
   "metadata": {},
   "outputs": [],
   "source": [
    "CustomerData.loc[CustomerData.nomprov==\"CORU\\xc3\\x91A, A\",\"nomprov\"] = \"CORUNA, A\"\n",
    "CustomerData.loc[CustomerData.nomprov.isnull(),\"nomprov\"] = \"UNKNOWN\""
   ]
  },
  {
   "cell_type": "code",
   "execution_count": 14,
   "id": "1302eae4",
   "metadata": {},
   "outputs": [
    {
     "data": {
      "text/html": [
       "<div>\n",
       "<style scoped>\n",
       "    .dataframe tbody tr th:only-of-type {\n",
       "        vertical-align: middle;\n",
       "    }\n",
       "\n",
       "    .dataframe tbody tr th {\n",
       "        vertical-align: top;\n",
       "    }\n",
       "\n",
       "    .dataframe thead th {\n",
       "        text-align: right;\n",
       "    }\n",
       "</style>\n",
       "<table border=\"1\" class=\"dataframe\">\n",
       "  <thead>\n",
       "    <tr style=\"text-align: right;\">\n",
       "      <th></th>\n",
       "      <th>renta</th>\n",
       "    </tr>\n",
       "    <tr>\n",
       "      <th>nomprov</th>\n",
       "      <th></th>\n",
       "    </tr>\n",
       "  </thead>\n",
       "  <tbody>\n",
       "    <tr>\n",
       "      <th>ALBACETE</th>\n",
       "      <td>78068.64</td>\n",
       "    </tr>\n",
       "    <tr>\n",
       "      <th>ALICANTE</th>\n",
       "      <td>67818.96</td>\n",
       "    </tr>\n",
       "    <tr>\n",
       "      <th>ALMERIA</th>\n",
       "      <td>73658.19</td>\n",
       "    </tr>\n",
       "    <tr>\n",
       "      <th>ASTURIAS</th>\n",
       "      <td>87897.06</td>\n",
       "    </tr>\n",
       "    <tr>\n",
       "      <th>AVILA</th>\n",
       "      <td>67608.57</td>\n",
       "    </tr>\n",
       "  </tbody>\n",
       "</table>\n",
       "</div>"
      ],
      "text/plain": [
       "             renta\n",
       "nomprov           \n",
       "ALBACETE  78068.64\n",
       "ALICANTE  67818.96\n",
       "ALMERIA   73658.19\n",
       "ASTURIAS  87897.06\n",
       "AVILA     67608.57"
      ]
     },
     "execution_count": 14,
     "metadata": {},
     "output_type": "execute_result"
    }
   ],
   "source": [
    "#Replacing renta with median\n",
    "incomes = CustomerData.loc[CustomerData.renta.notnull(),:].groupby(\"nomprov\").agg({\"renta\":np.median})\n",
    "incomes.nomprov = incomes.astype(\"category\",[i for i in CustomerData.nomprov.unique()],False)\n",
    "incomes.head()"
   ]
  },
  {
   "cell_type": "code",
   "execution_count": 59,
   "id": "f171d108",
   "metadata": {},
   "outputs": [
    {
     "name": "stdout",
     "output_type": "stream",
     "text": [
      "Median Income: 102278\n"
     ]
    }
   ],
   "source": [
    "unique_values = np.sort(CustomerData.renta.unique())\n",
    "CustomerData.loc[CustomerData.renta.isnull(), 'renta'] = CustomerData.renta.dropna().median()\n",
    "print(\"Median Income:\", int(CustomerData.renta.dropna().median()))"
   ]
  },
  {
   "cell_type": "code",
   "execution_count": 40,
   "id": "c68b1ee7",
   "metadata": {},
   "outputs": [],
   "source": [
    "CustomerData.loc[CustomerData.ind_nomina_ult1.isnull(), \"ind_nomina_ult1\"] = 0\n",
    "CustomerData.loc[CustomerData.ind_nom_pens_ult1.isnull(), \"ind_nom_pens_ult1\"] = 0"
   ]
  },
  {
   "cell_type": "code",
   "execution_count": 56,
   "id": "7010a3a6",
   "metadata": {},
   "outputs": [],
   "source": [
    "CustomerData.loc[CustomerData.indfall.isnull(),\"indfall\"] = \"N\"\n",
    "CustomerData.loc[CustomerData.tiprel_1mes.isnull(),\"tiprel_1mes\"] = \"A\"\n",
    "CustomerData.tiprel_1mes = CustomerData.tiprel_1mes.astype(\"category\")"
   ]
  },
  {
   "cell_type": "code",
   "execution_count": 72,
   "id": "5d3e1346",
   "metadata": {},
   "outputs": [],
   "source": [
    "map_dict = { 1.0  : \"1\",\n",
    "            \"1.0\" : \"1\",\n",
    "            \"1\"   : \"1\",\n",
    "            \"3.0\" : \"3\",\n",
    "            \"P\"   : \"P\",\n",
    "            3.0   : \"3\",\n",
    "            2.0   : \"2\",\n",
    "            \"3\"   : \"3\",\n",
    "            \"2.0\" : \"2\",\n",
    "            \"4.0\" : \"4\",\n",
    "            \"4\"   : \"4\",\n",
    "            \"2\"   : \"2\"}"
   ]
  },
  {
   "cell_type": "code",
   "execution_count": 73,
   "id": "71142ead",
   "metadata": {},
   "outputs": [],
   "source": [
    "CustomerData.indrel_1mes.fillna(\"P\",inplace=True)\n",
    "CustomerData.indrel_1mes = CustomerData.indrel_1mes.apply(lambda x: map_dict.get(x,x))\n",
    "CustomerData.indrel_1mes = CustomerData.indrel_1mes.astype(\"category\")"
   ]
  },
  {
   "cell_type": "code",
   "execution_count": 75,
   "id": "e7552572",
   "metadata": {},
   "outputs": [],
   "source": [
    "unknown_cols = [col for col in missing_columns if col not in [\"indfall\",\"tiprel_1mes\",\"indrel_1mes\"]]\n",
    "for col in unknown_cols:\n",
    "    CustomerData.loc[CustomerData[col].isnull(),col] = \"UNKNOWN\""
   ]
  },
  {
   "cell_type": "code",
   "execution_count": 17,
   "id": "51caa187",
   "metadata": {},
   "outputs": [
    {
     "data": {
      "text/plain": [
       "N    2966901\n",
       "B        810\n",
       "F        652\n",
       "A        597\n",
       "Name: ind_empleado, dtype: int64"
      ]
     },
     "execution_count": 17,
     "metadata": {},
     "output_type": "execute_result"
    }
   ],
   "source": [
    "CustomerData['ind_empleado'].value_counts()"
   ]
  },
  {
   "cell_type": "code",
   "execution_count": 18,
   "id": "ae5d5042",
   "metadata": {},
   "outputs": [],
   "source": [
    "# Updating missing value with highest recurring value \n",
    "CustomerData.loc[CustomerData.ind_empleado.isnull(), \"ind_empleado\"] = \"N\""
   ]
  },
  {
   "cell_type": "code",
   "execution_count": 83,
   "id": "fa6a9706",
   "metadata": {},
   "outputs": [],
   "source": [
    "# Considering missing values as normal individuals\n",
    "CustomerData.loc[CustomerData.segmento.isnull(), \"segmento\"] = \"02\""
   ]
  },
  {
   "cell_type": "code",
   "execution_count": 81,
   "id": "8343f810",
   "metadata": {},
   "outputs": [],
   "source": [
    "# Removing the columns \n",
    "CustomerData.drop([\"tipodom\",\"cod_prov\"],axis=1,inplace=True)"
   ]
  },
  {
   "cell_type": "code",
   "execution_count": 96,
   "id": "cafe55bc",
   "metadata": {},
   "outputs": [
    {
     "data": {
      "text/plain": [
       "fecha_dato               False\n",
       "ncodpers                 False\n",
       "ind_empleado             False\n",
       "pais_residencia          False\n",
       "sexo                     False\n",
       "age                      False\n",
       "fecha_alta               False\n",
       "ind_nuevo                False\n",
       "antiguedad               False\n",
       "indrel                   False\n",
       "indrel_1mes              False\n",
       "tiprel_1mes              False\n",
       "indresi                  False\n",
       "indext                   False\n",
       "canal_entrada            False\n",
       "indfall                  False\n",
       "nomprov                  False\n",
       "ind_actividad_cliente    False\n",
       "renta                    False\n",
       "segmento                 False\n",
       "ind_ahor_fin_ult1        False\n",
       "ind_aval_fin_ult1        False\n",
       "ind_cco_fin_ult1         False\n",
       "ind_cder_fin_ult1        False\n",
       "ind_cno_fin_ult1         False\n",
       "ind_ctju_fin_ult1        False\n",
       "ind_ctma_fin_ult1        False\n",
       "ind_ctop_fin_ult1        False\n",
       "ind_ctpp_fin_ult1        False\n",
       "ind_deco_fin_ult1        False\n",
       "ind_deme_fin_ult1        False\n",
       "ind_dela_fin_ult1        False\n",
       "ind_ecue_fin_ult1        False\n",
       "ind_fond_fin_ult1        False\n",
       "ind_hip_fin_ult1         False\n",
       "ind_plan_fin_ult1        False\n",
       "ind_pres_fin_ult1        False\n",
       "ind_reca_fin_ult1        False\n",
       "ind_tjcr_fin_ult1        False\n",
       "ind_valo_fin_ult1        False\n",
       "ind_viv_fin_ult1         False\n",
       "ind_nomina_ult1          False\n",
       "ind_nom_pens_ult1        False\n",
       "ind_recibo_ult1          False\n",
       "dtype: bool"
      ]
     },
     "execution_count": 96,
     "metadata": {},
     "output_type": "execute_result"
    }
   ],
   "source": [
    "CustomerData.isnull().any()"
   ]
  },
  {
   "cell_type": "markdown",
   "id": "4f0c9430",
   "metadata": {},
   "source": [
    "### Now Data is free from missing vales(NAN)"
   ]
  },
  {
   "cell_type": "code",
   "execution_count": 89,
   "id": "c3172581",
   "metadata": {},
   "outputs": [
    {
     "name": "stdout",
     "output_type": "stream",
     "text": [
      "ind_cco_fin_ult1     2196054.0\n",
      "ind_cder_fin_ult1       1425.0\n",
      "ind_cno_fin_ult1      269732.0\n",
      "ind_ctju_fin_ult1      35236.0\n",
      "ind_ctma_fin_ult1      35146.0\n",
      "ind_ctop_fin_ult1     460370.0\n",
      "ind_ctpp_fin_ult1     161486.0\n",
      "ind_deco_fin_ult1       8548.0\n",
      "ind_deme_fin_ult1       6978.0\n",
      "ind_dela_fin_ult1     157277.0\n",
      "ind_ecue_fin_ult1     278142.0\n",
      "ind_fond_fin_ult1      64900.0\n",
      "ind_hip_fin_ult1       21558.0\n",
      "ind_plan_fin_ult1      31812.0\n",
      "ind_pres_fin_ult1      10401.0\n",
      "ind_reca_fin_ult1     178372.0\n",
      "ind_tjcr_fin_ult1     157326.0\n",
      "ind_valo_fin_ult1      87065.0\n",
      "ind_viv_fin_ult1       14085.0\n",
      "ind_nomina_ult1       185861.0\n",
      "ind_nom_pens_ult1     200645.0\n",
      "ind_recibo_ult1       431565.0\n",
      "dtype: float64\n"
     ]
    }
   ],
   "source": [
    "Target = CustomerData[CustomerData.columns[22:49]].sum(axis=0)\n",
    "print(Target)"
   ]
  },
  {
   "cell_type": "markdown",
   "id": "5ba6fbfa",
   "metadata": {},
   "source": [
    "### Identifying Outliers in Target Variable"
   ]
  },
  {
   "cell_type": "code",
   "execution_count": 93,
   "id": "735d83f4",
   "metadata": {},
   "outputs": [
    {
     "data": {
      "image/png": "[encoded data removed]",
      "text/plain": [
       "<Figure size 720x1080 with 25 Axes>"
      ]
     },
     "metadata": {
      "needs_background": "light"
     },
     "output_type": "display_data"
    }
   ],
   "source": [
    "fig, axes = plt.subplots(nrows=5, ncols=5, figsize=(10,15))\n",
    "plt.subplots_adjust(wspace=1.3, hspace=0.6)\n",
    "fig_row=0\n",
    "for col_id in range(24, 44):\n",
    "    ax_id=col_id-24\n",
    "    fig_label=CustomerData.columns[col_id]\n",
    "    feat=CustomerData.columns[col_id]\n",
    "    fig_col=(col_id+1)%5\n",
    "    box_plot=sns.boxplot(y='age', data=CustomerData[(CustomerData[feat]==1) & CustomerData.age], ax=axes[fig_row][fig_col])\n",
    "    box_plot.set(xlabel=fig_label)\n",
    "    if fig_col==4: fig_row+=1"
   ]
  },
  {
   "cell_type": "markdown",
   "id": "5fef7ef3",
   "metadata": {},
   "source": [
    "### This implies data is numerically distinct"
   ]
  },
  {
   "cell_type": "code",
   "execution_count": 36,
   "id": "c7e4761b",
   "metadata": {},
   "outputs": [
    {
     "data": {
      "image/png": "[encoded data removed]",
      "text/plain": [
       "<Figure size 720x1080 with 25 Axes>"
      ]
     },
     "metadata": {
      "needs_background": "light"
     },
     "output_type": "display_data"
    }
   ],
   "source": [
    "fig, axes = plt.subplots(nrows=5, ncols=5, figsize=(10,15))\n",
    "plt.subplots_adjust(wspace=1.3, hspace=0.6)\n",
    "fig_row=0\n",
    "for col_id in range(24, 45):\n",
    "    ax_id=col_id-24\n",
    "    fig_label=CustomerData.columns[col_id]\n",
    "    feat=CustomerData.columns[col_id]\n",
    "    fig_col=(col_id+1)%5\n",
    "    box_plot=sns.boxplot(y='antiguedad', data=CustomerData[(CustomerData[feat]==1) & CustomerData.antiguedad], ax=axes[fig_row][fig_col])\n",
    "    box_plot.set(xlabel=fig_label)\n",
    "    if fig_col==3: fig_row+=1"
   ]
  },
  {
   "cell_type": "code",
   "execution_count": 35,
   "id": "e163d76a",
   "metadata": {},
   "outputs": [
    {
     "data": {
      "image/png": "[encoded data removed]",
      "text/plain": [
       "<Figure size 576x1008 with 24 Axes>"
      ]
     },
     "metadata": {
      "needs_background": "light"
     },
     "output_type": "display_data"
    }
   ],
   "source": [
    "fig, axes = plt.subplots(nrows=6, ncols=4, figsize=(8,14))\n",
    "plt.subplots_adjust(wspace=0.8, hspace=0.5)\n",
    "# fig.tight_layout()\n",
    "fig_row=0\n",
    "for col_id in range(24, 45):\n",
    "    ax_id=col_id-24\n",
    "    fig_label= CustomerData.columns[col_id]\n",
    "    feat=CustomerData.columns[col_id]\n",
    "    fig_col=(col_id)%4\n",
    "    countplot=sns.countplot(x='sexo', data=CustomerData[(CustomerData[feat]==1) & (CustomerData['sexo'].notna())],ax=axes[fig_row][fig_col])\n",
    "    countplot.set(xlabel=fig_label)\n",
    "    if fig_col==3: fig_row+=1"
   ]
  },
  {
   "cell_type": "markdown",
   "id": "c1ecac23",
   "metadata": {},
   "source": [
    "#### Targets distributed based on 'SEXO' are skewed towards right. \n"
   ]
  },
  {
   "cell_type": "code",
   "execution_count": null,
   "id": "deeb61e3",
   "metadata": {},
   "outputs": [],
   "source": []
  }
 ],
 "metadata": {
  "kernelspec": {
   "display_name": "Python 3 (ipykernel)",
   "language": "python",
   "name": "python3"
  },
  "language_info": {
   "codemirror_mode": {
    "name": "ipython",
    "version": 3
   },
   "file_extension": ".py",
   "mimetype": "text/x-python",
   "name": "python",
   "nbconvert_exporter": "python",
   "pygments_lexer": "ipython3",
   "version": "3.9.12"
  }
 },
 "nbformat": 4,
 "nbformat_minor": 5
}
